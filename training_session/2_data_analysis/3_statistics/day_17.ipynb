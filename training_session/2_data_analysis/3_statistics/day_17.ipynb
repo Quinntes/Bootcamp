{
 "cells": [
  {
   "cell_type": "code",
   "execution_count": 1,
   "id": "776e3e9f",
   "metadata": {},
   "outputs": [],
   "source": [
    "#Import the usual library\n",
    "import pandas as pd\n",
    "import numpy as np\n",
    "import matplotlib.pyplot as plt\n",
    "import seaborn as sns\n",
    "\n",
    "import warnings\n",
    "warnings.filterwarnings('ignore')"
   ]
  },
  {
   "cell_type": "code",
   "execution_count": 4,
   "id": "e8edc3e0",
   "metadata": {},
   "outputs": [
    {
     "data": {
      "text/html": [
       "<div>\n",
       "<style scoped>\n",
       "    .dataframe tbody tr th:only-of-type {\n",
       "        vertical-align: middle;\n",
       "    }\n",
       "\n",
       "    .dataframe tbody tr th {\n",
       "        vertical-align: top;\n",
       "    }\n",
       "\n",
       "    .dataframe thead th {\n",
       "        text-align: right;\n",
       "    }\n",
       "</style>\n",
       "<table border=\"1\" class=\"dataframe\">\n",
       "  <thead>\n",
       "    <tr style=\"text-align: right;\">\n",
       "      <th></th>\n",
       "      <th>mpg</th>\n",
       "      <th>cylinders</th>\n",
       "      <th>displacement</th>\n",
       "      <th>horsepower</th>\n",
       "      <th>weight</th>\n",
       "      <th>acceleration</th>\n",
       "      <th>model_year</th>\n",
       "      <th>origin</th>\n",
       "      <th>name</th>\n",
       "    </tr>\n",
       "  </thead>\n",
       "  <tbody>\n",
       "    <tr>\n",
       "      <th>0</th>\n",
       "      <td>18.0</td>\n",
       "      <td>8</td>\n",
       "      <td>307.0</td>\n",
       "      <td>130.0</td>\n",
       "      <td>3504</td>\n",
       "      <td>12.0</td>\n",
       "      <td>70</td>\n",
       "      <td>usa</td>\n",
       "      <td>chevrolet chevelle malibu</td>\n",
       "    </tr>\n",
       "    <tr>\n",
       "      <th>1</th>\n",
       "      <td>15.0</td>\n",
       "      <td>8</td>\n",
       "      <td>350.0</td>\n",
       "      <td>165.0</td>\n",
       "      <td>3693</td>\n",
       "      <td>11.5</td>\n",
       "      <td>70</td>\n",
       "      <td>usa</td>\n",
       "      <td>buick skylark 320</td>\n",
       "    </tr>\n",
       "    <tr>\n",
       "      <th>2</th>\n",
       "      <td>18.0</td>\n",
       "      <td>8</td>\n",
       "      <td>318.0</td>\n",
       "      <td>150.0</td>\n",
       "      <td>3436</td>\n",
       "      <td>11.0</td>\n",
       "      <td>70</td>\n",
       "      <td>usa</td>\n",
       "      <td>plymouth satellite</td>\n",
       "    </tr>\n",
       "    <tr>\n",
       "      <th>3</th>\n",
       "      <td>16.0</td>\n",
       "      <td>8</td>\n",
       "      <td>304.0</td>\n",
       "      <td>150.0</td>\n",
       "      <td>3433</td>\n",
       "      <td>12.0</td>\n",
       "      <td>70</td>\n",
       "      <td>usa</td>\n",
       "      <td>amc rebel sst</td>\n",
       "    </tr>\n",
       "    <tr>\n",
       "      <th>4</th>\n",
       "      <td>17.0</td>\n",
       "      <td>8</td>\n",
       "      <td>302.0</td>\n",
       "      <td>140.0</td>\n",
       "      <td>3449</td>\n",
       "      <td>10.5</td>\n",
       "      <td>70</td>\n",
       "      <td>usa</td>\n",
       "      <td>ford torino</td>\n",
       "    </tr>\n",
       "  </tbody>\n",
       "</table>\n",
       "</div>"
      ],
      "text/plain": [
       "    mpg  cylinders  displacement  horsepower  weight  acceleration  \\\n",
       "0  18.0          8         307.0       130.0    3504          12.0   \n",
       "1  15.0          8         350.0       165.0    3693          11.5   \n",
       "2  18.0          8         318.0       150.0    3436          11.0   \n",
       "3  16.0          8         304.0       150.0    3433          12.0   \n",
       "4  17.0          8         302.0       140.0    3449          10.5   \n",
       "\n",
       "   model_year origin                       name  \n",
       "0          70    usa  chevrolet chevelle malibu  \n",
       "1          70    usa          buick skylark 320  \n",
       "2          70    usa         plymouth satellite  \n",
       "3          70    usa              amc rebel sst  \n",
       "4          70    usa                ford torino  "
      ]
     },
     "execution_count": 4,
     "metadata": {},
     "output_type": "execute_result"
    }
   ],
   "source": [
    "df_mpg = sns.load_dataset('mpg')\n",
    "df_mpg.head()"
   ]
  },
  {
   "cell_type": "markdown",
   "id": "d45c6c29",
   "metadata": {},
   "source": [
    "# Uji Parametrik (Datanya harus normal)"
   ]
  },
  {
   "cell_type": "markdown",
   "id": "7211b508",
   "metadata": {},
   "source": [
    "## One Sample TTest"
   ]
  },
  {
   "cell_type": "code",
   "execution_count": 5,
   "id": "2ce64a83",
   "metadata": {},
   "outputs": [
    {
     "data": {
      "text/plain": [
       "23.514572864321607"
      ]
     },
     "execution_count": 5,
     "metadata": {},
     "output_type": "execute_result"
    }
   ],
   "source": [
    "df_mpg['mpg'].mean() # berdasarkan sampel"
   ]
  },
  {
   "cell_type": "markdown",
   "id": "60fbbc05",
   "metadata": {},
   "source": [
    "### Uji 2 sisi\n",
    "apakah rata rata mpg itu sama dengan 23.0\n",
    "\n",
    "- H0: rata rata mpg = 23.0\n",
    "- H1: rata rata mpg != 23.0"
   ]
  },
  {
   "cell_type": "code",
   "execution_count": 7,
   "id": "fde6bb6d",
   "metadata": {},
   "outputs": [],
   "source": [
    "from scipy.stats import ttest_1samp"
   ]
  },
  {
   "cell_type": "code",
   "execution_count": 8,
   "id": "c48433e1",
   "metadata": {},
   "outputs": [],
   "source": [
    "# uji statistik\n",
    "stats, p_value = ttest_1samp(df_mpg['mpg'], popmean = 23.0)"
   ]
  },
  {
   "cell_type": "code",
   "execution_count": 9,
   "id": "57b283f8",
   "metadata": {},
   "outputs": [
    {
     "name": "stdout",
     "output_type": "stream",
     "text": [
      "p_value = 0.19, Terima H0\n"
     ]
    }
   ],
   "source": [
    "# Intepretasi hasil:\n",
    "if p_value > 0.05:\n",
    "    print(f'p_value = {p_value:.2f}, Terima H0')\n",
    "else:\n",
    "    print(f'p_value = {p_value:.2f}, Terima H1')"
   ]
  },
  {
   "cell_type": "markdown",
   "id": "95681ed2",
   "metadata": {},
   "source": [
    "**kesimpulan:** rata rata mpg = 23.0 "
   ]
  },
  {
   "cell_type": "markdown",
   "id": "482d00aa",
   "metadata": {},
   "source": [
    "### Uji 1 sisi\n",
    "apakah rata rata mpg >= 23.0\n",
    "\n",
    "- H0: rata rata mpg >= 23.0\n",
    "- H1: rata rata mpg < 23.0"
   ]
  },
  {
   "cell_type": "code",
   "execution_count": 10,
   "id": "318a37b0",
   "metadata": {},
   "outputs": [],
   "source": [
    "# uji statistik\n",
    "stats, p_value = ttest_1samp(df_mpg['mpg'], popmean = 23.0)"
   ]
  },
  {
   "attachments": {},
   "cell_type": "markdown",
   "id": "992b2424",
   "metadata": {},
   "source": [
    "Jika p_value / 2 < 0.05 dan stat < 0 maka tolak H0 dan terima H1 (one tailed kiri)"
   ]
  },
  {
   "cell_type": "code",
   "execution_count": 12,
   "id": "02f918b1",
   "metadata": {},
   "outputs": [
    {
     "name": "stdout",
     "output_type": "stream",
     "text": [
      "p_value/2 = 0.09, terima H0\n"
     ]
    }
   ],
   "source": [
    "# akibat one tailed maka p value harus dibagi 2 dan juga cek arahnya (stats)\n",
    "if p_value/2 < 0.05 and stats < 0:\n",
    "    print(f'p_value/2 = {p_value/2:.2f}, tolak H0')\n",
    "else:\n",
    "    print(f'p_value/2 = {p_value/2:.2f}, terima H0')"
   ]
  },
  {
   "cell_type": "markdown",
   "id": "5729fb54",
   "metadata": {},
   "source": [
    "**Kesimpulan:** rata rata mpg >= 23.0"
   ]
  },
  {
   "cell_type": "markdown",
   "id": "5b5e7cab",
   "metadata": {},
   "source": [
    "### Uji 1 sisi\n",
    "apakah rata rata mpg lebih dari 21\n",
    "\n",
    "- H0: rata rata mpg <= 21\n",
    "- H1: rata rata mpg > 21"
   ]
  },
  {
   "cell_type": "code",
   "execution_count": 16,
   "id": "e3d0adba",
   "metadata": {},
   "outputs": [],
   "source": [
    "# uji statistik\n",
    "stats, p_value = ttest_1samp(df_mpg['mpg'], popmean = 21.0)"
   ]
  },
  {
   "attachments": {},
   "cell_type": "markdown",
   "id": "b40b5057",
   "metadata": {},
   "source": [
    "Jika p_value / 2 < 0.05 dan stat > 0 maka tolak H0 dan terima H1 (one tailed kanan)"
   ]
  },
  {
   "cell_type": "code",
   "execution_count": 17,
   "id": "571a0064",
   "metadata": {},
   "outputs": [
    {
     "name": "stdout",
     "output_type": "stream",
     "text": [
      "p_value/2 = 0.00, tolak H0\n"
     ]
    }
   ],
   "source": [
    "# akibat one tailed maka p value harus dibagi 2 dan juga cek arahnya (stats)\n",
    "if p_value/2 < 0.05 and stats > 0:\n",
    "    print(f'p_value/2 = {p_value/2:.2f}, tolak H0')\n",
    "else:\n",
    "    print(f'p_value/2 = {p_value/2:.2f}, terima H0')"
   ]
  },
  {
   "cell_type": "markdown",
   "id": "7d1e351b",
   "metadata": {},
   "source": [
    "**Kesimpulan:** rata rata mpg > 21"
   ]
  },
  {
   "cell_type": "markdown",
   "id": "bbdee940",
   "metadata": {},
   "source": [
    "### Uji 1 sisi:\n",
    "cek apakah rata rata akselerasi lebih dari 15\n",
    "\n",
    "- H0: rata rata akselerasi <= 15\n",
    "- H1: rata rata akselerasi > 15"
   ]
  },
  {
   "cell_type": "code",
   "execution_count": 18,
   "id": "171d7fcf",
   "metadata": {},
   "outputs": [],
   "source": [
    "# uji statistik\n",
    "stats, p_value = ttest_1samp(df_mpg['acceleration'], popmean = 15.0)"
   ]
  },
  {
   "cell_type": "code",
   "execution_count": 21,
   "id": "be985dc4",
   "metadata": {},
   "outputs": [
    {
     "name": "stdout",
     "output_type": "stream",
     "text": [
      "p_value/2 = 0.00, tolak H0\n"
     ]
    }
   ],
   "source": [
    "# akibat one tailed maka p value harus dibagi 2 dan juga cek arahnya (stats)\n",
    "if p_value/2 < 0.05 and stats > 0:\n",
    "    print(f'p_value/2 = {p_value/2:.2f}, tolak H0')\n",
    "else:\n",
    "    print(f'p_value/2 = {p_value/2:.2f}, terima H0')"
   ]
  },
  {
   "cell_type": "markdown",
   "id": "42d0e30d",
   "metadata": {},
   "source": [
    "**Kesimpulan:** rata rata akselerasi > 15"
   ]
  },
  {
   "cell_type": "markdown",
   "id": "be3d5478",
   "metadata": {},
   "source": [
    "## Two Sample Independent Test (Varians Sama)"
   ]
  },
  {
   "cell_type": "code",
   "execution_count": 25,
   "id": "b000b17e",
   "metadata": {},
   "outputs": [
    {
     "data": {
      "text/plain": [
       "20.083534136546184"
      ]
     },
     "execution_count": 25,
     "metadata": {},
     "output_type": "execute_result"
    }
   ],
   "source": [
    "df_mpg[df_mpg['origin'] == 'usa']['mpg'].mean() # mean by sample"
   ]
  },
  {
   "cell_type": "code",
   "execution_count": 26,
   "id": "64be9c13",
   "metadata": {},
   "outputs": [
    {
     "data": {
      "text/plain": [
       "30.450632911392404"
      ]
     },
     "execution_count": 26,
     "metadata": {},
     "output_type": "execute_result"
    }
   ],
   "source": [
    "df_mpg[df_mpg['origin'] == 'japan']['mpg'].mean() # mean by sample"
   ]
  },
  {
   "cell_type": "markdown",
   "id": "530689fe",
   "metadata": {},
   "source": [
    "### 1 sisi\n",
    "apakah rata rata mobil usa lebih boros (mpg lebih kecil) daripada mobil jepang\n",
    "\n",
    "- H0: rata rata mpg mobil usa >= mpg mobil jepang\n",
    "- H1: rata rata mpg mobil usa < mpg mobil jepang"
   ]
  },
  {
   "cell_type": "code",
   "execution_count": 28,
   "id": "68ddedd1",
   "metadata": {},
   "outputs": [],
   "source": [
    "from scipy.stats import ttest_ind"
   ]
  },
  {
   "cell_type": "code",
   "execution_count": 29,
   "id": "4ac4dfc2",
   "metadata": {},
   "outputs": [],
   "source": [
    "usa = df_mpg[df_mpg['origin'] == 'usa']['mpg']\n",
    "japan = df_mpg[df_mpg['origin'] == 'japan']['mpg']"
   ]
  },
  {
   "cell_type": "code",
   "execution_count": 30,
   "id": "24b6f6c0",
   "metadata": {},
   "outputs": [],
   "source": [
    "stats, p_value = ttest_ind(usa, japan, equal_var=True, alternative = 'less') \n",
    "# dilihat dari h1 untul alternativenya"
   ]
  },
  {
   "cell_type": "code",
   "execution_count": 31,
   "id": "e79c0e36",
   "metadata": {},
   "outputs": [
    {
     "name": "stdout",
     "output_type": "stream",
     "text": [
      "p_value = 0.00, Terima H1\n"
     ]
    }
   ],
   "source": [
    "# Intepretasi hasil:\n",
    "if p_value > 0.05:\n",
    "    print(f'p_value = {p_value:.2f}, Terima H0')\n",
    "else:\n",
    "    print(f'p_value = {p_value:.2f}, Terima H1')"
   ]
  },
  {
   "cell_type": "markdown",
   "id": "0cefa5e2",
   "metadata": {},
   "source": [
    "**Kesimpulan:** rata rata mpg mobil usa < mpg mobil jepang\n",
    "ttest_ind"
   ]
  },
  {
   "cell_type": "markdown",
   "id": "25374ee5",
   "metadata": {},
   "source": [
    "### 1 sisi\n",
    "apakah rata rata mobil usa akselerasinya lebih tinggi daripada mobil jepang\n",
    "\n",
    "- H0: rata rata akselerasi mobil usa <= akselerasi mobil jepang\n",
    "- H1: rata rata akselerasi mobil usa > akselerasi mobil jepang"
   ]
  },
  {
   "cell_type": "code",
   "execution_count": 33,
   "id": "6ea63e0b",
   "metadata": {},
   "outputs": [],
   "source": [
    "usa = df_mpg[df_mpg['origin'] == 'usa']['acceleration']\n",
    "japan = df_mpg[df_mpg['origin'] == 'japan']['acceleration']"
   ]
  },
  {
   "cell_type": "code",
   "execution_count": 37,
   "id": "0a427339",
   "metadata": {},
   "outputs": [
    {
     "data": {
      "text/plain": [
       "15.033734939759036"
      ]
     },
     "execution_count": 37,
     "metadata": {},
     "output_type": "execute_result"
    }
   ],
   "source": [
    "usa.mean()"
   ]
  },
  {
   "cell_type": "code",
   "execution_count": 38,
   "id": "7c9abd0a",
   "metadata": {},
   "outputs": [
    {
     "data": {
      "text/plain": [
       "16.17215189873418"
      ]
     },
     "execution_count": 38,
     "metadata": {},
     "output_type": "execute_result"
    }
   ],
   "source": [
    "japan.mean()"
   ]
  },
  {
   "cell_type": "code",
   "execution_count": 35,
   "id": "199f1b2a",
   "metadata": {},
   "outputs": [],
   "source": [
    "stats, p_value = ttest_ind(usa, japan, equal_var=True, alternative = 'greater')"
   ]
  },
  {
   "cell_type": "code",
   "execution_count": 36,
   "id": "fcd0bd73",
   "metadata": {},
   "outputs": [
    {
     "name": "stdout",
     "output_type": "stream",
     "text": [
      "p_value = 1.00, Terima H0\n"
     ]
    }
   ],
   "source": [
    "# Intepretasi hasil:\n",
    "if p_value > 0.05:\n",
    "    print(f'p_value = {p_value:.2f}, Terima H0')\n",
    "else:\n",
    "    print(f'p_value = {p_value:.2f}, Terima H1')"
   ]
  },
  {
   "cell_type": "markdown",
   "id": "170506d1",
   "metadata": {},
   "source": [
    "**Kesimpulan:** rata rata akselerasi mobil usa <= akselerasi mobil jepang"
   ]
  },
  {
   "cell_type": "code",
   "execution_count": 39,
   "id": "02c46168",
   "metadata": {},
   "outputs": [],
   "source": [
    "# cara lama (tanpa alternative)\n",
    "stats, p_value = ttest_ind(usa, japan, equal_var=True)"
   ]
  },
  {
   "cell_type": "code",
   "execution_count": 40,
   "id": "fa2c688c",
   "metadata": {},
   "outputs": [
    {
     "name": "stdout",
     "output_type": "stream",
     "text": [
      "p_value/2 = 0.00, terima H0\n"
     ]
    }
   ],
   "source": [
    "# akibat one tailed maka p value harus dibagi 2 dan juga cek arahnya (stats)\n",
    "if p_value/2 < 0.05 and stats > 0:\n",
    "    print(f'p_value/2 = {p_value/2:.2f}, tolak H0')\n",
    "else:\n",
    "    print(f'p_value/2 = {p_value/2:.2f}, terima H0')"
   ]
  },
  {
   "cell_type": "markdown",
   "id": "e922e3bd",
   "metadata": {},
   "source": [
    "### 2 sisi\n",
    "apakah rata rata akselerasi usa = europe\n",
    "\n",
    "- H0: rata rata akselerasi usa = europe\n",
    "- H1: rata rata akselerasi usa != europe"
   ]
  },
  {
   "cell_type": "code",
   "execution_count": 41,
   "id": "e4a2aa8e",
   "metadata": {},
   "outputs": [],
   "source": [
    "usa = df_mpg[df_mpg['origin'] == 'usa']['acceleration']\n",
    "europe = df_mpg[df_mpg['origin'] == 'europe']['acceleration']"
   ]
  },
  {
   "cell_type": "code",
   "execution_count": 42,
   "id": "d32c099e",
   "metadata": {},
   "outputs": [],
   "source": [
    "stats, p_value = ttest_ind(usa, europe, equal_var = True)"
   ]
  },
  {
   "cell_type": "code",
   "execution_count": 43,
   "id": "740cbaa8",
   "metadata": {},
   "outputs": [
    {
     "name": "stdout",
     "output_type": "stream",
     "text": [
      "p_value = 0.00, Terima H1\n"
     ]
    }
   ],
   "source": [
    "# Intepretasi hasil:\n",
    "if p_value > 0.05:\n",
    "    print(f'p_value = {p_value:.2f}, Terima H0')\n",
    "else:\n",
    "    print(f'p_value = {p_value:.2f}, Terima H1')"
   ]
  },
  {
   "cell_type": "markdown",
   "id": "dd33485c",
   "metadata": {},
   "source": [
    "**Kesimpulan:** Rata rata akeselerasi usa dan europe berbeda"
   ]
  },
  {
   "cell_type": "markdown",
   "id": "1d65afe2",
   "metadata": {},
   "source": [
    "## Two Sample Independent Test (Varians Tidak Sama)"
   ]
  },
  {
   "cell_type": "markdown",
   "id": "23b850e6",
   "metadata": {},
   "source": [
    "### 1 sisi\n",
    "apakah rata rata mobil usa akselerasinya lebih tinggi daripada mobil jepang\n",
    "\n",
    "- H0: rata rata akselerasi mobil usa <= akselerasi mobil jepang\n",
    "- H1: rata rata akselerasi mobil usa > akselerasi mobil jepang"
   ]
  },
  {
   "cell_type": "code",
   "execution_count": 44,
   "id": "e4a71aaa",
   "metadata": {},
   "outputs": [],
   "source": [
    "usa = df_mpg[df_mpg['origin'] == 'usa']['acceleration']\n",
    "japan = df_mpg[df_mpg['origin'] == 'japan']['acceleration']"
   ]
  },
  {
   "cell_type": "code",
   "execution_count": 45,
   "id": "0c198482",
   "metadata": {},
   "outputs": [],
   "source": [
    "stats, p_value = ttest_ind(usa, japan, equal_var = False, alternative = 'greater')"
   ]
  },
  {
   "cell_type": "code",
   "execution_count": 46,
   "id": "ddf437cc",
   "metadata": {},
   "outputs": [
    {
     "name": "stdout",
     "output_type": "stream",
     "text": [
      "p_value = 1.00, Terima H0\n"
     ]
    }
   ],
   "source": [
    "# Intepretasi hasil:\n",
    "if p_value > 0.05:\n",
    "    print(f'p_value = {p_value:.2f}, Terima H0')\n",
    "else:\n",
    "    print(f'p_value = {p_value:.2f}, Terima H1')"
   ]
  },
  {
   "cell_type": "markdown",
   "id": "4668d340",
   "metadata": {},
   "source": [
    "**Kesimpulan:** rata rata akselerasi mobil usa <= akselerasi mobil jepang"
   ]
  },
  {
   "cell_type": "markdown",
   "id": "526ffa91",
   "metadata": {},
   "source": [
    "## 2 sample paired ttest"
   ]
  },
  {
   "cell_type": "code",
   "execution_count": 47,
   "id": "a9f6ad78",
   "metadata": {},
   "outputs": [
    {
     "data": {
      "text/html": [
       "<div>\n",
       "<style scoped>\n",
       "    .dataframe tbody tr th:only-of-type {\n",
       "        vertical-align: middle;\n",
       "    }\n",
       "\n",
       "    .dataframe tbody tr th {\n",
       "        vertical-align: top;\n",
       "    }\n",
       "\n",
       "    .dataframe thead th {\n",
       "        text-align: right;\n",
       "    }\n",
       "</style>\n",
       "<table border=\"1\" class=\"dataframe\">\n",
       "  <thead>\n",
       "    <tr style=\"text-align: right;\">\n",
       "      <th></th>\n",
       "      <th>after_tuning</th>\n",
       "      <th>before_tuning</th>\n",
       "    </tr>\n",
       "  </thead>\n",
       "  <tbody>\n",
       "    <tr>\n",
       "      <th>0</th>\n",
       "      <td>22.753888</td>\n",
       "      <td>25.993428</td>\n",
       "    </tr>\n",
       "    <tr>\n",
       "      <th>1</th>\n",
       "      <td>25.738064</td>\n",
       "      <td>24.723471</td>\n",
       "    </tr>\n",
       "    <tr>\n",
       "      <th>2</th>\n",
       "      <td>25.971856</td>\n",
       "      <td>26.295377</td>\n",
       "    </tr>\n",
       "    <tr>\n",
       "      <th>3</th>\n",
       "      <td>24.593168</td>\n",
       "      <td>28.046060</td>\n",
       "    </tr>\n",
       "    <tr>\n",
       "      <th>4</th>\n",
       "      <td>26.516143</td>\n",
       "      <td>24.531693</td>\n",
       "    </tr>\n",
       "  </tbody>\n",
       "</table>\n",
       "</div>"
      ],
      "text/plain": [
       "   after_tuning  before_tuning\n",
       "0     22.753888      25.993428\n",
       "1     25.738064      24.723471\n",
       "2     25.971856      26.295377\n",
       "3     24.593168      28.046060\n",
       "4     26.516143      24.531693"
      ]
     },
     "execution_count": 47,
     "metadata": {},
     "output_type": "execute_result"
    }
   ],
   "source": [
    "np.random.seed(42)\n",
    "\n",
    "sebelum = np.random.normal(loc=25, scale=2, size = 100)\n",
    "setelah = np.random.normal(loc=27, scale =3, size = 100)\n",
    "\n",
    "df_pair = pd.DataFrame({'after_tuning':setelah, 'before_tuning': sebelum})\n",
    "df_pair.head()"
   ]
  },
  {
   "cell_type": "markdown",
   "id": "869bc638",
   "metadata": {},
   "source": [
    "### 2 tail test\n",
    "menguji apakah terdapat perbedaan antara konsumsi bahan bakar sebelum dan setelah tuning\n",
    "\n",
    "- H0: tidak ada perbedaan (sebelum = setelah)\n",
    "- H1: ada perbedaan (sebelum != setelah)"
   ]
  },
  {
   "cell_type": "code",
   "execution_count": 49,
   "id": "e8b55f00",
   "metadata": {},
   "outputs": [],
   "source": [
    "from scipy.stats import ttest_rel"
   ]
  },
  {
   "cell_type": "code",
   "execution_count": 50,
   "id": "4ac7b557",
   "metadata": {},
   "outputs": [],
   "source": [
    "stats, p_value = ttest_rel(df_pair['after_tuning'], df_pair['before_tuning'])"
   ]
  },
  {
   "cell_type": "code",
   "execution_count": 51,
   "id": "5d0f4e65",
   "metadata": {},
   "outputs": [
    {
     "name": "stdout",
     "output_type": "stream",
     "text": [
      "p_value = 0.00, Terima H1\n"
     ]
    }
   ],
   "source": [
    "# Intepretasi hasil:\n",
    "if p_value > 0.05:\n",
    "    print(f'p_value = {p_value:.2f}, Terima H0')\n",
    "else:\n",
    "    print(f'p_value = {p_value:.2f}, Terima H1')"
   ]
  },
  {
   "cell_type": "markdown",
   "id": "d27cee33",
   "metadata": {},
   "source": [
    "**Kesimpulan:** Terdapat perbedaan konsumsi bahan bakar antara sebelum dan setelah tuning"
   ]
  },
  {
   "cell_type": "markdown",
   "id": "1d59fd71",
   "metadata": {},
   "source": [
    "## One Way Anova: Uji paramterik lebih dari 2 populasi"
   ]
  },
  {
   "cell_type": "markdown",
   "id": "1968664f",
   "metadata": {},
   "source": [
    "**contoh 1** apakah ada perbedaan akselerasi antara ketiga origin mobil (japan, usa, europe)\n",
    "\n",
    "- H0: akselerasi ketiga origin sama\n",
    "- H1: akselerasi ketiga origin ada yang berbeda"
   ]
  },
  {
   "cell_type": "code",
   "execution_count": 53,
   "id": "05a5daf8",
   "metadata": {},
   "outputs": [],
   "source": [
    "from scipy.stats import f_oneway"
   ]
  },
  {
   "cell_type": "code",
   "execution_count": 54,
   "id": "3f1c011e",
   "metadata": {},
   "outputs": [],
   "source": [
    "usa = df_mpg[df_mpg['origin'] == 'usa']['acceleration']\n",
    "europe = df_mpg[df_mpg['origin'] == 'europe']['acceleration']\n",
    "japan = df_mpg[df_mpg['origin'] == 'japan']['acceleration']"
   ]
  },
  {
   "cell_type": "code",
   "execution_count": 55,
   "id": "eff3fe9a",
   "metadata": {},
   "outputs": [],
   "source": [
    "stats, p_value = f_oneway(usa, europe, japan)"
   ]
  },
  {
   "cell_type": "code",
   "execution_count": 56,
   "id": "542633cc",
   "metadata": {},
   "outputs": [
    {
     "name": "stdout",
     "output_type": "stream",
     "text": [
      "p_value = 0.00, Terima H1\n"
     ]
    }
   ],
   "source": [
    "# Intepretasi hasil:\n",
    "if p_value > 0.05:\n",
    "    print(f'p_value = {p_value:.2f}, Terima H0')\n",
    "else:\n",
    "    print(f'p_value = {p_value:.2f}, Terima H1')"
   ]
  },
  {
   "cell_type": "markdown",
   "id": "5d2af2ec",
   "metadata": {},
   "source": [
    "**Kesimpulan:** akselerasi ketiga origin ada yang berbeda"
   ]
  },
  {
   "cell_type": "markdown",
   "id": "4f64aa20",
   "metadata": {},
   "source": [
    "**Contoh 2**\n",
    "apakah ada perbedaan horse power antara ketiga origin mobil (japan, usa, europe)\n",
    "\n",
    "- H0: tidak ada perbedaan horsepower (ketiganya sama)\n",
    "- H1: ada perbedaan horsepower dari ketiganya"
   ]
  },
  {
   "cell_type": "code",
   "execution_count": 65,
   "id": "9e81b74b",
   "metadata": {},
   "outputs": [],
   "source": [
    "# df_mpg.dropna(inplace = True)\n",
    "df_mpg = df_mpg.dropna()"
   ]
  },
  {
   "cell_type": "code",
   "execution_count": 66,
   "id": "e0e2564e",
   "metadata": {},
   "outputs": [],
   "source": [
    "usa = df_mpg[df_mpg['origin'] == 'usa']['horsepower']\n",
    "europe = df_mpg[df_mpg['origin'] == 'europe']['horsepower']\n",
    "japan = df_mpg[df_mpg['origin'] == 'japan']['horsepower']"
   ]
  },
  {
   "cell_type": "code",
   "execution_count": 67,
   "id": "ceb13df1",
   "metadata": {},
   "outputs": [],
   "source": [
    "stats, p_value = f_oneway(usa, europe, japan)"
   ]
  },
  {
   "cell_type": "code",
   "execution_count": 68,
   "id": "a92e6060",
   "metadata": {},
   "outputs": [
    {
     "name": "stdout",
     "output_type": "stream",
     "text": [
      "p_value = 0.00, Terima H1\n"
     ]
    }
   ],
   "source": [
    "# Intepretasi hasil:\n",
    "if p_value > 0.05:\n",
    "    print(f'p_value = {p_value:.2f}, Terima H0')\n",
    "else:\n",
    "    print(f'p_value = {p_value:.2f}, Terima H1')"
   ]
  },
  {
   "cell_type": "markdown",
   "id": "48a281b9",
   "metadata": {},
   "source": [
    "**Kesimpulan:** ada perbedaan"
   ]
  },
  {
   "cell_type": "code",
   "execution_count": 69,
   "id": "2cd27224",
   "metadata": {},
   "outputs": [
    {
     "data": {
      "text/html": [
       "<div>\n",
       "<style scoped>\n",
       "    .dataframe tbody tr th:only-of-type {\n",
       "        vertical-align: middle;\n",
       "    }\n",
       "\n",
       "    .dataframe tbody tr th {\n",
       "        vertical-align: top;\n",
       "    }\n",
       "\n",
       "    .dataframe thead th {\n",
       "        text-align: right;\n",
       "    }\n",
       "</style>\n",
       "<table border=\"1\" class=\"dataframe\">\n",
       "  <thead>\n",
       "    <tr style=\"text-align: right;\">\n",
       "      <th></th>\n",
       "      <th>mpg</th>\n",
       "      <th>cylinders</th>\n",
       "      <th>displacement</th>\n",
       "      <th>horsepower</th>\n",
       "      <th>weight</th>\n",
       "      <th>acceleration</th>\n",
       "      <th>model_year</th>\n",
       "      <th>origin</th>\n",
       "      <th>name</th>\n",
       "    </tr>\n",
       "  </thead>\n",
       "  <tbody>\n",
       "    <tr>\n",
       "      <th>0</th>\n",
       "      <td>18.0</td>\n",
       "      <td>8</td>\n",
       "      <td>307.0</td>\n",
       "      <td>130.0</td>\n",
       "      <td>3504</td>\n",
       "      <td>12.0</td>\n",
       "      <td>70</td>\n",
       "      <td>usa</td>\n",
       "      <td>chevrolet chevelle malibu</td>\n",
       "    </tr>\n",
       "    <tr>\n",
       "      <th>1</th>\n",
       "      <td>15.0</td>\n",
       "      <td>8</td>\n",
       "      <td>350.0</td>\n",
       "      <td>165.0</td>\n",
       "      <td>3693</td>\n",
       "      <td>11.5</td>\n",
       "      <td>70</td>\n",
       "      <td>usa</td>\n",
       "      <td>buick skylark 320</td>\n",
       "    </tr>\n",
       "    <tr>\n",
       "      <th>2</th>\n",
       "      <td>18.0</td>\n",
       "      <td>8</td>\n",
       "      <td>318.0</td>\n",
       "      <td>150.0</td>\n",
       "      <td>3436</td>\n",
       "      <td>11.0</td>\n",
       "      <td>70</td>\n",
       "      <td>usa</td>\n",
       "      <td>plymouth satellite</td>\n",
       "    </tr>\n",
       "    <tr>\n",
       "      <th>3</th>\n",
       "      <td>16.0</td>\n",
       "      <td>8</td>\n",
       "      <td>304.0</td>\n",
       "      <td>150.0</td>\n",
       "      <td>3433</td>\n",
       "      <td>12.0</td>\n",
       "      <td>70</td>\n",
       "      <td>usa</td>\n",
       "      <td>amc rebel sst</td>\n",
       "    </tr>\n",
       "    <tr>\n",
       "      <th>4</th>\n",
       "      <td>17.0</td>\n",
       "      <td>8</td>\n",
       "      <td>302.0</td>\n",
       "      <td>140.0</td>\n",
       "      <td>3449</td>\n",
       "      <td>10.5</td>\n",
       "      <td>70</td>\n",
       "      <td>usa</td>\n",
       "      <td>ford torino</td>\n",
       "    </tr>\n",
       "  </tbody>\n",
       "</table>\n",
       "</div>"
      ],
      "text/plain": [
       "    mpg  cylinders  displacement  horsepower  weight  acceleration  \\\n",
       "0  18.0          8         307.0       130.0    3504          12.0   \n",
       "1  15.0          8         350.0       165.0    3693          11.5   \n",
       "2  18.0          8         318.0       150.0    3436          11.0   \n",
       "3  16.0          8         304.0       150.0    3433          12.0   \n",
       "4  17.0          8         302.0       140.0    3449          10.5   \n",
       "\n",
       "   model_year origin                       name  \n",
       "0          70    usa  chevrolet chevelle malibu  \n",
       "1          70    usa          buick skylark 320  \n",
       "2          70    usa         plymouth satellite  \n",
       "3          70    usa              amc rebel sst  \n",
       "4          70    usa                ford torino  "
      ]
     },
     "execution_count": 69,
     "metadata": {},
     "output_type": "execute_result"
    }
   ],
   "source": [
    "df_mpg.head()"
   ]
  },
  {
   "cell_type": "code",
   "execution_count": 73,
   "id": "25dbedaf",
   "metadata": {},
   "outputs": [
    {
     "data": {
      "text/plain": [
       "array([8, 4, 6, 3, 5], dtype=int64)"
      ]
     },
     "execution_count": 73,
     "metadata": {},
     "output_type": "execute_result"
    }
   ],
   "source": [
    "df_mpg['cylinders'].unique()"
   ]
  },
  {
   "cell_type": "markdown",
   "id": "7c989b95",
   "metadata": {},
   "source": [
    "**Contoh 3** apakah ada perbedaan mpg antara berbagai jenis silinder\n",
    "\n",
    "- H0: tidak ada perbedaan antar jenis silinder\n",
    "- H1: ada perbedaan antar jenis silinder"
   ]
  },
  {
   "cell_type": "code",
   "execution_count": 74,
   "id": "e43b94ba",
   "metadata": {},
   "outputs": [],
   "source": [
    "cyl_3 = df_mpg[df_mpg['cylinders'] == 3]['mpg']\n",
    "cyl_4 = df_mpg[df_mpg['cylinders'] == 4]['mpg']\n",
    "cyl_5 = df_mpg[df_mpg['cylinders'] == 5]['mpg']\n",
    "cyl_6 = df_mpg[df_mpg['cylinders'] == 6]['mpg']\n",
    "cyl_8 = df_mpg[df_mpg['cylinders'] == 8]['mpg']"
   ]
  },
  {
   "cell_type": "code",
   "execution_count": 75,
   "id": "1b8d721d",
   "metadata": {},
   "outputs": [],
   "source": [
    "stats, p_value = f_oneway(cyl_3, cyl_4, cyl_5, cyl_6, cyl_8)"
   ]
  },
  {
   "cell_type": "code",
   "execution_count": 76,
   "id": "082de4e3",
   "metadata": {},
   "outputs": [
    {
     "name": "stdout",
     "output_type": "stream",
     "text": [
      "p_value = 0.00, Terima H1\n"
     ]
    }
   ],
   "source": [
    "# Intepretasi hasil:\n",
    "if p_value > 0.05:\n",
    "    print(f'p_value = {p_value:.2f}, Terima H0')\n",
    "else:\n",
    "    print(f'p_value = {p_value:.2f}, Terima H1')"
   ]
  },
  {
   "cell_type": "markdown",
   "id": "d1cf3960",
   "metadata": {},
   "source": [
    "**Kesimpulan:** ada perbedaan mpg antar berbagai jenis silinder"
   ]
  },
  {
   "cell_type": "code",
   "execution_count": null,
   "id": "35904f1c",
   "metadata": {},
   "outputs": [],
   "source": []
  }
 ],
 "metadata": {
  "kernelspec": {
   "display_name": "Python 3 (ipykernel)",
   "language": "python",
   "name": "python3"
  },
  "language_info": {
   "codemirror_mode": {
    "name": "ipython",
    "version": 3
   },
   "file_extension": ".py",
   "mimetype": "text/x-python",
   "name": "python",
   "nbconvert_exporter": "python",
   "pygments_lexer": "ipython3",
   "version": "3.11.5"
  }
 },
 "nbformat": 4,
 "nbformat_minor": 5
}
