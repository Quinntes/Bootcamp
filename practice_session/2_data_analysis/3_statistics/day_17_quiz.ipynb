{
 "cells": [
  {
   "cell_type": "markdown",
   "id": "706a372c",
   "metadata": {},
   "source": [
    "# Statistics Exercise \n",
    "---"
   ]
  },
  {
   "cell_type": "markdown",
   "id": "34456e08",
   "metadata": {},
   "source": [
    "# Concept and Theory"
   ]
  },
  {
   "cell_type": "markdown",
   "id": "2ed0b3dd",
   "metadata": {},
   "source": [
    "## **Soal 1**"
   ]
  },
  {
   "cell_type": "markdown",
   "id": "81982052",
   "metadata": {},
   "source": [
    "**Apa yang dimaksud dengan populasi dan sample? Berikan Contohnya!**"
   ]
  },
  {
   "cell_type": "code",
   "execution_count": 35,
   "id": "1a8e2f05",
   "metadata": {},
   "outputs": [
    {
     "name": "stdout",
     "output_type": "stream",
     "text": [
      "Populasi adalah: keseluruhan subjek/objek yang memiliki karakteristik tertentu yang menjadi sasaran dalam sebuah penelitian\n",
      "Sampel adalah:  sebagian dari populasi yang diambil dan dijadikan sumber data untuk mewakili populasi\n"
     ]
    }
   ],
   "source": [
    "print(\"Populasi adalah: keseluruhan subjek/objek yang memiliki karakteristik tertentu yang menjadi sasaran dalam sebuah penelitian\")\n",
    "print(\"Sampel adalah:  sebagian dari populasi yang diambil dan dijadikan sumber data untuk mewakili populasi\")"
   ]
  },
  {
   "cell_type": "markdown",
   "id": "f2486fef",
   "metadata": {},
   "source": [
    "## **Soal 2**"
   ]
  },
  {
   "cell_type": "markdown",
   "id": "3b9f04c4",
   "metadata": {},
   "source": [
    "**Apa yang dimaksud dengan hipotesis? Apa perbedaan Null Hypothesis (Ho) dan Alternative Hypothesis (Ha)? Berikan contohnya!**"
   ]
  },
  {
   "cell_type": "code",
   "execution_count": 36,
   "id": "942fe2c0",
   "metadata": {},
   "outputs": [
    {
     "name": "stdout",
     "output_type": "stream",
     "text": [
      "Hipotesis adalah: dugaan awal tentang karakteristik populasi yang akan diuji kebenarannya berdasarkan data sampel\n",
      "Hipotesis Testing adalah: cara untuk memastikan apakah dugaan tentang seluruh data (populasi) itu benar, dengan memeriksa data contoh (sampel)\n",
      "Hipothesis Null adalah: hipotesis yang menyatakan tidak adanya perbedaan atau hubungan antar variabel\n",
      "Hypothesis Alternative adalah: hipotesis yang menyatakan adanya perbedaan atau hubungan antar variabel\n",
      "Contoh Hipotesis Null: tidak terdapat perbedaan rata-rata tinggi badan antara pria dan wanita\n",
      "Contoh Hipotesis Alternative: terdapat perbedaan rata-rata tinggi badan antara pria dan wanita\n"
     ]
    }
   ],
   "source": [
    "print(\"Hipotesis adalah: dugaan awal tentang karakteristik populasi yang akan diuji kebenarannya berdasarkan data sampel\")\n",
    "print(\"Hipotesis Testing adalah: cara untuk memastikan apakah dugaan tentang seluruh data (populasi) itu benar, dengan memeriksa data contoh (sampel)\")\n",
    "print(\"Hipothesis Null adalah: hipotesis yang menyatakan tidak adanya perbedaan atau hubungan antar variabel\")\n",
    "print(\"Hypothesis Alternative adalah: hipotesis yang menyatakan adanya perbedaan atau hubungan antar variabel\")\n",
    "print(\"Contoh Hipotesis Null: tidak terdapat perbedaan rata-rata tinggi badan antara pria dan wanita\")\n",
    "print(\"Contoh Hipotesis Alternative: terdapat perbedaan rata-rata tinggi badan antara pria dan wanita\")"
   ]
  },
  {
   "cell_type": "markdown",
   "id": "0baed424",
   "metadata": {},
   "source": [
    "## **Soal 3**"
   ]
  },
  {
   "cell_type": "markdown",
   "id": "90795074",
   "metadata": {},
   "source": [
    "---\n",
    "### **One tail vs Two tail**"
   ]
  },
  {
   "cell_type": "markdown",
   "id": "879a0786",
   "metadata": {},
   "source": [
    "#### Jika kita ingin melakukan eksperimen atau survey untuk membuktikan pertanyaan di bawah ini, uji apa yang lebih cocok (One tail test atau Two tail test)?"
   ]
  },
  {
   "cell_type": "markdown",
   "id": "c7786e42",
   "metadata": {},
   "source": [
    "1.\tApakah rata-rata tinggi orang Indonesia pada tahun 2000 dan 2020 berbeda?\n",
    "     \n",
    "2.\tApakah rata-rata nilai IELTS sekolah international di Jakarta lebih besar dari sekolah umum?\n",
    "    \n",
    "3.\tApakah orang yang rajin oleh raga sepeda memiliki kadar lemak tubuh lebih rendah dari orang yang jarang olah raga?  \n",
    "    \n",
    "4.\tApakah rata-rata satu karung kecil beras yang diproduksi oleh Company A adalah 5.000g?   \n",
    "    \n",
    "5.\tApakah jumlah siswa yang lulus UN tahun 2010 ada 95%?"
   ]
  },
  {
   "cell_type": "code",
   "execution_count": 37,
   "id": "1db32756",
   "metadata": {},
   "outputs": [
    {
     "ename": "SyntaxError",
     "evalue": "invalid syntax (145362804.py, line 1)",
     "output_type": "error",
     "traceback": [
      "  \u001b[36mCell\u001b[39m\u001b[36m \u001b[39m\u001b[32mIn[37]\u001b[39m\u001b[32m, line 1\u001b[39m\n\u001b[31m    \u001b[39m\u001b[31m1. Two tail\u001b[39m\n       ^\n\u001b[31mSyntaxError\u001b[39m\u001b[31m:\u001b[39m invalid syntax\n"
     ]
    }
   ],
   "source": [
    "1. Two tail\n",
    "2. One tail\n",
    "3. One tail\n",
    "4. Two tail\n",
    "5. One tail"
   ]
  },
  {
   "cell_type": "markdown",
   "id": "1e8d0b88",
   "metadata": {},
   "source": [
    "---\n",
    "### **Hypothesis Testing**\n",
    "Pilih metode yang tepat untuk kasus dibawah ini.\n"
   ]
  },
  {
   "cell_type": "markdown",
   "id": "7c11cccc",
   "metadata": {},
   "source": [
    "1.\tDari 5 provider internet di Indonesia, apakah semuanya memiliki rata-rata penghasilan yang sama di tahun 2020?\n",
    "\n",
    "2.\tApakah orang yang rajin oleh raga sepeda memiliki kadar lemak tubuh lebih rendah dari sebelum mereka berolah raga?\n",
    "\n",
    "3.\tApakah orang yang rajin oleh raga sepeda memiliki kadar lemak tubuh lebih rendah dari orang yang jarang olah raga?  \n",
    "\n",
    "4.\tApakah rata-rata satu karung kecil beras yang diproduksi oleh Company A adalah 5.000g?   \n",
    "\n",
    "5.\tApakah jumlah siswa yang lulus UN tahun 2010 ada 95%?"
   ]
  },
  {
   "cell_type": "code",
   "execution_count": null,
   "id": "62a0bc39",
   "metadata": {},
   "outputs": [],
   "source": [
    "1. One way Anova\n",
    "2. Paired sample t test\n",
    "3. Independent sample t test\n",
    "4. One sample t test\n",
    "5. One proportion z test"
   ]
  },
  {
   "cell_type": "markdown",
   "id": "b60bbfc7",
   "metadata": {},
   "source": [
    "# Practical"
   ]
  },
  {
   "cell_type": "code",
   "execution_count": 38,
   "id": "0c608332",
   "metadata": {},
   "outputs": [],
   "source": [
    "# import libraries\n",
    "import numpy as np\n",
    "import pandas as pd\n",
    "import seaborn as sns\n",
    "import scipy.stats as stats"
   ]
  },
  {
   "cell_type": "code",
   "execution_count": 39,
   "id": "c6663fef",
   "metadata": {},
   "outputs": [
    {
     "data": {
      "text/html": [
       "<div>\n",
       "<style scoped>\n",
       "    .dataframe tbody tr th:only-of-type {\n",
       "        vertical-align: middle;\n",
       "    }\n",
       "\n",
       "    .dataframe tbody tr th {\n",
       "        vertical-align: top;\n",
       "    }\n",
       "\n",
       "    .dataframe thead th {\n",
       "        text-align: right;\n",
       "    }\n",
       "</style>\n",
       "<table border=\"1\" class=\"dataframe\">\n",
       "  <thead>\n",
       "    <tr style=\"text-align: right;\">\n",
       "      <th></th>\n",
       "      <th>brand</th>\n",
       "      <th>model</th>\n",
       "      <th>year</th>\n",
       "      <th>price</th>\n",
       "      <th>transmission</th>\n",
       "      <th>mileage</th>\n",
       "      <th>fuelType</th>\n",
       "      <th>tax</th>\n",
       "      <th>mpg</th>\n",
       "      <th>engineSize</th>\n",
       "    </tr>\n",
       "  </thead>\n",
       "  <tbody>\n",
       "    <tr>\n",
       "      <th>0</th>\n",
       "      <td>Audi</td>\n",
       "      <td>A1</td>\n",
       "      <td>2017</td>\n",
       "      <td>12500</td>\n",
       "      <td>Manual</td>\n",
       "      <td>15735</td>\n",
       "      <td>Petrol</td>\n",
       "      <td>150</td>\n",
       "      <td>55.4</td>\n",
       "      <td>1.4</td>\n",
       "    </tr>\n",
       "    <tr>\n",
       "      <th>1</th>\n",
       "      <td>Audi</td>\n",
       "      <td>A6</td>\n",
       "      <td>2016</td>\n",
       "      <td>16500</td>\n",
       "      <td>Automatic</td>\n",
       "      <td>36203</td>\n",
       "      <td>Diesel</td>\n",
       "      <td>20</td>\n",
       "      <td>64.2</td>\n",
       "      <td>2.0</td>\n",
       "    </tr>\n",
       "    <tr>\n",
       "      <th>2</th>\n",
       "      <td>Audi</td>\n",
       "      <td>A1</td>\n",
       "      <td>2016</td>\n",
       "      <td>11000</td>\n",
       "      <td>Manual</td>\n",
       "      <td>29946</td>\n",
       "      <td>Petrol</td>\n",
       "      <td>30</td>\n",
       "      <td>55.4</td>\n",
       "      <td>1.4</td>\n",
       "    </tr>\n",
       "    <tr>\n",
       "      <th>3</th>\n",
       "      <td>Audi</td>\n",
       "      <td>A4</td>\n",
       "      <td>2017</td>\n",
       "      <td>16800</td>\n",
       "      <td>Automatic</td>\n",
       "      <td>25952</td>\n",
       "      <td>Diesel</td>\n",
       "      <td>145</td>\n",
       "      <td>67.3</td>\n",
       "      <td>2.0</td>\n",
       "    </tr>\n",
       "    <tr>\n",
       "      <th>4</th>\n",
       "      <td>Audi</td>\n",
       "      <td>A3</td>\n",
       "      <td>2019</td>\n",
       "      <td>17300</td>\n",
       "      <td>Manual</td>\n",
       "      <td>1998</td>\n",
       "      <td>Petrol</td>\n",
       "      <td>145</td>\n",
       "      <td>49.6</td>\n",
       "      <td>1.0</td>\n",
       "    </tr>\n",
       "  </tbody>\n",
       "</table>\n",
       "</div>"
      ],
      "text/plain": [
       "  brand model  year  price transmission  mileage fuelType  tax   mpg  \\\n",
       "0  Audi    A1  2017  12500       Manual    15735   Petrol  150  55.4   \n",
       "1  Audi    A6  2016  16500    Automatic    36203   Diesel   20  64.2   \n",
       "2  Audi    A1  2016  11000       Manual    29946   Petrol   30  55.4   \n",
       "3  Audi    A4  2017  16800    Automatic    25952   Diesel  145  67.3   \n",
       "4  Audi    A3  2019  17300       Manual     1998   Petrol  145  49.6   \n",
       "\n",
       "   engineSize  \n",
       "0         1.4  \n",
       "1         2.0  \n",
       "2         1.4  \n",
       "3         2.0  \n",
       "4         1.0  "
      ]
     },
     "execution_count": 39,
     "metadata": {},
     "output_type": "execute_result"
    }
   ],
   "source": [
    "df_car = pd.read_csv('all_cars.csv')\n",
    "df_car.head()"
   ]
  },
  {
   "cell_type": "markdown",
   "id": "582793ba",
   "metadata": {},
   "source": [
    "## Soal 1. \n",
    "Apakah mobil Automatic dari Hyundai dan Toyota memiliki harga yang berbeda? Buktikan dengan Uji Statistik?"
   ]
  },
  {
   "cell_type": "markdown",
   "id": "2bc478e5",
   "metadata": {},
   "source": [
    "- H0: harga hyundai = harga toyota\n",
    "- H1: harga hyundai != harga toyota"
   ]
  },
  {
   "cell_type": "code",
   "execution_count": 40,
   "id": "fa7d2e23",
   "metadata": {},
   "outputs": [],
   "source": [
    "from scipy.stats import ttest_ind"
   ]
  },
  {
   "cell_type": "code",
   "execution_count": 41,
   "id": "928a20ff",
   "metadata": {},
   "outputs": [],
   "source": [
    "hyundai = df_car[df_car['brand'] == 'Hyundai']['price']\n",
    "toyota = df_car[df_car['brand'] == 'Toyota']['price']"
   ]
  },
  {
   "cell_type": "code",
   "execution_count": 42,
   "id": "ca0a2b8d",
   "metadata": {},
   "outputs": [],
   "source": [
    "stats, p_value = ttest_ind(hyundai, toyota, equal_var = True)"
   ]
  },
  {
   "cell_type": "code",
   "execution_count": 43,
   "id": "6ec75065",
   "metadata": {},
   "outputs": [
    {
     "name": "stdout",
     "output_type": "stream",
     "text": [
      "p_value = 0.05, Terima H0\n"
     ]
    }
   ],
   "source": [
    "# Intepretasi hasil:\n",
    "if p_value > 0.05:\n",
    "    print(f'p_value = {p_value:.2f}, Terima H0')\n",
    "else:\n",
    "    print(f'p_value = {p_value:.2f}, Terima H1')"
   ]
  },
  {
   "cell_type": "markdown",
   "id": "5f8b172d",
   "metadata": {},
   "source": [
    "**Kesimpulan:** harga hyundai sama dengan harga toyota"
   ]
  },
  {
   "cell_type": "markdown",
   "id": "6032b6d2",
   "metadata": {},
   "source": [
    "## Soal 2.\n",
    "Apakah jarak tempuh (mileage) semua brand mobil keluaran tahun 2019 sama? Buktikan dengan Uji Statistik!"
   ]
  },
  {
   "cell_type": "markdown",
   "id": "8ae11850",
   "metadata": {},
   "source": [
    "- H0: jarak tempuh semua brand keluaran 2019 sama\n",
    "- H1: jarak tempuh semua brand keluaran 2019 tidak sama"
   ]
  },
  {
   "cell_type": "code",
   "execution_count": 44,
   "id": "a629ac7e",
   "metadata": {},
   "outputs": [
    {
     "data": {
      "text/plain": [
       "array(['Audi', 'Hyundai', 'Toyota'], dtype=object)"
      ]
     },
     "execution_count": 44,
     "metadata": {},
     "output_type": "execute_result"
    }
   ],
   "source": [
    "df_car['brand'].unique()"
   ]
  },
  {
   "cell_type": "code",
   "execution_count": 45,
   "id": "b86e3a15",
   "metadata": {},
   "outputs": [],
   "source": [
    "from scipy.stats import f_oneway"
   ]
  },
  {
   "cell_type": "code",
   "execution_count": 46,
   "id": "265041a9",
   "metadata": {},
   "outputs": [],
   "source": [
    "audi = df_car[(df_car['brand'] == 'Audi') & (df_car['year'] == 2019)]['mileage']\n",
    "hyundai = df_car[(df_car['brand'] == 'Hyundai') & (df_car['year'] == 2019)]['mileage']\n",
    "toyota = df_car[(df_car['brand'] == 'Toyota') & (df_car['year'] == 2019)]['mileage']"
   ]
  },
  {
   "cell_type": "code",
   "execution_count": 47,
   "id": "ebe803bb",
   "metadata": {},
   "outputs": [],
   "source": [
    "stats, p_value = f_oneway(audi, hyundai, toyota)"
   ]
  },
  {
   "cell_type": "code",
   "execution_count": 48,
   "id": "2e9e42ab",
   "metadata": {},
   "outputs": [
    {
     "name": "stdout",
     "output_type": "stream",
     "text": [
      "p_value = 0.00, Terima H1\n"
     ]
    }
   ],
   "source": [
    "# Intepretasi hasil:\n",
    "if p_value > 0.05:\n",
    "    print(f'p_value = {p_value:.2f}, Terima H0')\n",
    "else:\n",
    "    print(f'p_value = {p_value:.2f}, Terima H1')"
   ]
  },
  {
   "cell_type": "markdown",
   "id": "68c05b00",
   "metadata": {},
   "source": [
    "**Kesimpulan:** jarak tempuh keseluruhan brand keluaran 2019 tidak sama"
   ]
  },
  {
   "cell_type": "markdown",
   "id": "700f88bd",
   "metadata": {},
   "source": [
    "## Soal 3.\n",
    "Apakah rata-rata nilai mpg dari semua mobil adalah 53 mpg! Buktikan dengan Uji Statistik!"
   ]
  },
  {
   "cell_type": "markdown",
   "id": "fdd17013",
   "metadata": {},
   "source": [
    "- H0: rata rata nilai mpg semua mobil 53 mpg\n",
    "- H1: rata rata nilai mpg semua mobil tidak 53 mpg"
   ]
  },
  {
   "cell_type": "code",
   "execution_count": 56,
   "id": "334dd812",
   "metadata": {},
   "outputs": [],
   "source": [
    "from scipy.stats import ttest_1samp"
   ]
  },
  {
   "cell_type": "code",
   "execution_count": 59,
   "id": "ae07d871",
   "metadata": {},
   "outputs": [
    {
     "data": {
      "text/plain": [
       "np.float64(55.151181173089014)"
      ]
     },
     "execution_count": 59,
     "metadata": {},
     "output_type": "execute_result"
    }
   ],
   "source": [
    "df_car.mpg.mean()"
   ]
  },
  {
   "cell_type": "code",
   "execution_count": 53,
   "id": "e0347a05",
   "metadata": {},
   "outputs": [],
   "source": [
    "stats, p_value = ttest_1samp(df_car['mpg'], popmean = 53.0)"
   ]
  },
  {
   "cell_type": "code",
   "execution_count": 54,
   "id": "3fb2fa82",
   "metadata": {},
   "outputs": [
    {
     "name": "stdout",
     "output_type": "stream",
     "text": [
      "p_value = 0.00, Terima H1\n"
     ]
    }
   ],
   "source": [
    "# Intepretasi hasil:\n",
    "if p_value > 0.05:\n",
    "    print(f'p_value = {p_value:.2f}, Terima H0')\n",
    "else:\n",
    "    print(f'p_value = {p_value:.2f}, Terima H1')"
   ]
  },
  {
   "cell_type": "markdown",
   "id": "ab159789",
   "metadata": {},
   "source": [
    "**Kesimpulan:** rata rata nilai semua mobil != 53 mpg"
   ]
  },
  {
   "cell_type": "markdown",
   "id": "af060355",
   "metadata": {},
   "source": [
    "## Soal 4.\n",
    "- Buat sebuah dataframe berisi mobil Hyundai dan Toyota tahun 2019!\n",
    "- Dari dataframe yang telah dibuat, lakukan uji hipotesis untuk membuktikan apakah brand mobil ada kaitannya dengan jenis transmisi!"
   ]
  },
  {
   "cell_type": "code",
   "execution_count": null,
   "id": "aff2868c",
   "metadata": {},
   "outputs": [],
   "source": []
  },
  {
   "cell_type": "markdown",
   "id": "5fd0c150",
   "metadata": {},
   "source": [
    "## Soal 6.\n",
    "- Apakah proporsi mobil berbahan bakar Diesel pada mobil bertranmisi Manual dan Automatic berbeda! (Apakah proporsi mobil berbahan bakar Diesel dari seluruh mobil bertranmisi Manual berbeda dari proporsi mobil berbahan bakar Diesel dari seluruh mobil bertranmisi Automatic?)\n",
    "\n",
    "- Buktikan dengan uji statistik!"
   ]
  },
  {
   "cell_type": "code",
   "execution_count": null,
   "id": "0b9c349d",
   "metadata": {},
   "outputs": [],
   "source": []
  }
 ],
 "metadata": {
  "kernelspec": {
   "display_name": "Python 3",
   "language": "python",
   "name": "python3"
  },
  "language_info": {
   "codemirror_mode": {
    "name": "ipython",
    "version": 3
   },
   "file_extension": ".py",
   "mimetype": "text/x-python",
   "name": "python",
   "nbconvert_exporter": "python",
   "pygments_lexer": "ipython3",
   "version": "3.13.5"
  }
 },
 "nbformat": 4,
 "nbformat_minor": 5
}
