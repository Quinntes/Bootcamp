{
 "cells": [
  {
   "cell_type": "markdown",
   "id": "363589e4",
   "metadata": {},
   "source": [
    "# Statistics Exercise\n",
    "---\n",
    "Latihan ini dirancang untuk mempraktikkan uji hipotesis statistik menggunakan dataset **Fertilizer Prediction** yang berisi data tentang suhu, kelembapan, kelembapan tanah, jenis tanah, jenis tanaman, dan kandungan nutrisi (Nitrogen, Potassium, Phosphorous) serta jenis pupuk yang digunakan. Tujuannya adalah menguji berbagai hipotesis untuk mendukung keputusan pertanian."
   ]
  },
  {
   "cell_type": "markdown",
   "id": "8011c3ed",
   "metadata": {},
   "source": [
    "# Practical"
   ]
  },
  {
   "cell_type": "code",
   "execution_count": 1,
   "id": "d0845a7d",
   "metadata": {},
   "outputs": [],
   "source": [
    "# !pip install statsmodels"
   ]
  },
  {
   "cell_type": "code",
   "execution_count": 2,
   "id": "a37c07b2",
   "metadata": {},
   "outputs": [],
   "source": [
    "# Import libraries\n",
    "import numpy as np\n",
    "import pandas as pd\n",
    "import seaborn as sns\n",
    "import scipy.stats as stats\n",
    "from statsmodels.stats.proportion import proportions_ztest"
   ]
  },
  {
   "cell_type": "code",
   "execution_count": 3,
   "id": "de2b6299",
   "metadata": {},
   "outputs": [
    {
     "data": {
      "text/html": [
       "<div>\n",
       "<style scoped>\n",
       "    .dataframe tbody tr th:only-of-type {\n",
       "        vertical-align: middle;\n",
       "    }\n",
       "\n",
       "    .dataframe tbody tr th {\n",
       "        vertical-align: top;\n",
       "    }\n",
       "\n",
       "    .dataframe thead th {\n",
       "        text-align: right;\n",
       "    }\n",
       "</style>\n",
       "<table border=\"1\" class=\"dataframe\">\n",
       "  <thead>\n",
       "    <tr style=\"text-align: right;\">\n",
       "      <th></th>\n",
       "      <th>Temparature</th>\n",
       "      <th>Humidity</th>\n",
       "      <th>Moisture</th>\n",
       "      <th>Soil Type</th>\n",
       "      <th>Crop Type</th>\n",
       "      <th>Nitrogen</th>\n",
       "      <th>Potassium</th>\n",
       "      <th>Phosphorous</th>\n",
       "      <th>Fertilizer Name</th>\n",
       "    </tr>\n",
       "  </thead>\n",
       "  <tbody>\n",
       "    <tr>\n",
       "      <th>0</th>\n",
       "      <td>26</td>\n",
       "      <td>52</td>\n",
       "      <td>38</td>\n",
       "      <td>Sandy</td>\n",
       "      <td>Maize</td>\n",
       "      <td>37</td>\n",
       "      <td>0</td>\n",
       "      <td>0</td>\n",
       "      <td>Urea</td>\n",
       "    </tr>\n",
       "    <tr>\n",
       "      <th>1</th>\n",
       "      <td>29</td>\n",
       "      <td>52</td>\n",
       "      <td>45</td>\n",
       "      <td>Loamy</td>\n",
       "      <td>Sugarcane</td>\n",
       "      <td>12</td>\n",
       "      <td>0</td>\n",
       "      <td>36</td>\n",
       "      <td>DAP</td>\n",
       "    </tr>\n",
       "    <tr>\n",
       "      <th>2</th>\n",
       "      <td>34</td>\n",
       "      <td>65</td>\n",
       "      <td>62</td>\n",
       "      <td>Black</td>\n",
       "      <td>Cotton</td>\n",
       "      <td>7</td>\n",
       "      <td>9</td>\n",
       "      <td>30</td>\n",
       "      <td>14-35-14</td>\n",
       "    </tr>\n",
       "    <tr>\n",
       "      <th>3</th>\n",
       "      <td>32</td>\n",
       "      <td>62</td>\n",
       "      <td>34</td>\n",
       "      <td>Red</td>\n",
       "      <td>Tobacco</td>\n",
       "      <td>22</td>\n",
       "      <td>0</td>\n",
       "      <td>20</td>\n",
       "      <td>28-28</td>\n",
       "    </tr>\n",
       "    <tr>\n",
       "      <th>4</th>\n",
       "      <td>28</td>\n",
       "      <td>54</td>\n",
       "      <td>46</td>\n",
       "      <td>Clayey</td>\n",
       "      <td>Paddy</td>\n",
       "      <td>35</td>\n",
       "      <td>0</td>\n",
       "      <td>0</td>\n",
       "      <td>Urea</td>\n",
       "    </tr>\n",
       "  </tbody>\n",
       "</table>\n",
       "</div>"
      ],
      "text/plain": [
       "   Temparature  Humidity   Moisture Soil Type  Crop Type  Nitrogen  Potassium  \\\n",
       "0           26         52        38     Sandy      Maize        37          0   \n",
       "1           29         52        45     Loamy  Sugarcane        12          0   \n",
       "2           34         65        62     Black     Cotton         7          9   \n",
       "3           32         62        34       Red    Tobacco        22          0   \n",
       "4           28         54        46    Clayey      Paddy        35          0   \n",
       "\n",
       "   Phosphorous Fertilizer Name  \n",
       "0            0            Urea  \n",
       "1           36             DAP  \n",
       "2           30        14-35-14  \n",
       "3           20           28-28  \n",
       "4            0            Urea  "
      ]
     },
     "execution_count": 3,
     "metadata": {},
     "output_type": "execute_result"
    }
   ],
   "source": [
    "# Load dataset\n",
    "df = pd.read_csv('Fertilizer Prediction.csv')\n",
    "df.head()"
   ]
  },
  {
   "cell_type": "markdown",
   "id": "5101e8e9",
   "metadata": {},
   "source": [
    "## Soal 1\n",
    "Apakah rata-rata kandungan Nitrogen untuk tanaman yang menggunakan pupuk Urea dan DAP berbeda? Buktikan dengan uji statistik!"
   ]
  },
  {
   "cell_type": "code",
   "execution_count": null,
   "id": "b64cd06e",
   "metadata": {},
   "outputs": [],
   "source": [
    "# 1. Menentukan hipotesis\n",
    "# Arah Uji:  Dua arah (two tailed)\n",
    "H0 = \"Rata rata kandungan Nitrogen untuk pupuk Urea = DAP\"\n",
    "HA = \"Rata rata kandungan Nitrogen untuk pupuk Urea != DAP\"\n",
    "\n",
    "# 2. Menentukan signifikansi\n",
    "alpha = 0.05\n",
    "\n",
    "# 3. Menentukan statistik uji\n",
    "# Normal -> Two Sample Independent TTest, Tidak Normal -> Mann-Whitney"
   ]
  },
  {
   "cell_type": "code",
   "execution_count": 5,
   "id": "a58335ca",
   "metadata": {},
   "outputs": [],
   "source": [
    "# 1. data Nitrogen untuk Urea dan DAP\n",
    "n_urea = df[df['Fertilizer Name'] == 'Urea']['Nitrogen']\n",
    "n_dap = df[df['Fertilizer Name'] == 'DAP']['Nitrogen']"
   ]
  },
  {
   "cell_type": "code",
   "execution_count": 6,
   "id": "dbcd4b6d",
   "metadata": {},
   "outputs": [],
   "source": [
    "# 2. uji normalitas menggunakan Shapiro Wilk Test\n",
    "stat_urea, p_urea = stats.shapiro(n_urea)\n",
    "stat_dap, p_dap = stats.shapiro(n_dap)"
   ]
  },
  {
   "cell_type": "code",
   "execution_count": 7,
   "id": "bec7abb2",
   "metadata": {},
   "outputs": [
    {
     "data": {
      "text/plain": [
       "{'p-value Urea': '0.09', 'p-value DAP': '0.14'}"
      ]
     },
     "execution_count": 7,
     "metadata": {},
     "output_type": "execute_result"
    }
   ],
   "source": [
    "# 3. hasil normalitas\n",
    "{'p-value Urea': f'{p_urea:.2f}', 'p-value DAP': f'{p_dap:.2f}'}"
   ]
  },
  {
   "cell_type": "code",
   "execution_count": null,
   "id": "0d347234",
   "metadata": {},
   "outputs": [
    {
     "name": "stdout",
     "output_type": "stream",
     "text": [
      "\n",
      "Kedua data terdistribusi normal, menggunakan TTest\n",
      "p-value dari uji hipotesis: 0.00\n"
     ]
    }
   ],
   "source": [
    "# 4. uji hipotesis\n",
    "if p_urea > alpha and p_dap > alpha:\n",
    "    # Jika kedua data normal, pakai TTest\n",
    "    print('\\nKedua data terdistribusi normal, menggunakan TTest')\n",
    "    t_stat, p_value = stats.ttest_ind(n_urea, n_dap, equal_var=True)\n",
    "else:\n",
    "    # Jika salah satu atau kedua data tidak normal, pakai Mann Whitney\n",
    "    print('\\nSalah satu atau kedua data tidak terdistribusi normal, menggunakan Mann-Whitney')\n",
    "    u_stat, p_value = stats.mannwhitneyu(n_urea, n_dap)\n",
    "\n",
    "print(f'p-value dari uji hipotesis: {p_value:.2f}')"
   ]
  },
  {
   "cell_type": "code",
   "execution_count": null,
   "id": "20879981",
   "metadata": {},
   "outputs": [
    {
     "name": "stdout",
     "output_type": "stream",
     "text": [
      "Tolak H0\n"
     ]
    }
   ],
   "source": [
    "\n",
    "# 4. Ambil kesimpulan\n",
    "if p_value < alpha:\n",
    "    print('Tolak H0')\n",
    "else:\n",
    "    print('Gagal tolak H0')"
   ]
  },
  {
   "cell_type": "markdown",
   "id": "4a1a427a",
   "metadata": {},
   "source": [
    "**Kesimpulan Soal 1:** ada perbedaan signifikan rata rata kandungan Nitrogen antara pupuk Urea dan DAP"
   ]
  },
  {
   "cell_type": "markdown",
   "id": "34866f3d",
   "metadata": {},
   "source": [
    "## Soal 2\n",
    "Apakah rata-rata kelembapan tanah (Moisture) berbeda antara jenis tanah (Soil Type: Sandy, Loamy, Clayey, Black, Red)? Buktikan dengan uji statistik!"
   ]
  },
  {
   "cell_type": "code",
   "execution_count": null,
   "id": "5f8571bb",
   "metadata": {},
   "outputs": [],
   "source": [
    "# 1. Menentukan hipotesis\n",
    "# Arah Uji: Dua arah (two tailed)\n",
    "H0 = \"Rata-rata Moisture sama untuk kelima jenis tanah\"\n",
    "HA = \"Setidaknya ada satu jenis tanah yang rata-rata Moisture nya berbeda\"\n",
    "\n",
    "# 2. Menentukan signifikansi\n",
    "alpha = 0.05\n",
    "\n",
    "# 3. Menentukan statistik uji\n",
    "# Normal ->  One Way ANOVA, Tidak normal -> Kruskal Wallis Test"
   ]
  },
  {
   "cell_type": "code",
   "execution_count": 11,
   "id": "e9f8766e",
   "metadata": {},
   "outputs": [],
   "source": [
    "# 1. data Moisture untuk setiap jenis tanah\n",
    "sandy = df[df['Soil Type'] == 'Sandy']['Moisture']\n",
    "loamy = df[df['Soil Type'] == 'Loamy']['Moisture']\n",
    "clayey = df[df['Soil Type'] == 'Clayey']['Moisture']\n",
    "black = df[df['Soil Type'] == 'Black']['Moisture']\n",
    "red = df[df['Soil Type'] == 'Red']['Moisture']"
   ]
  },
  {
   "cell_type": "code",
   "execution_count": 12,
   "id": "28cf79f9",
   "metadata": {},
   "outputs": [],
   "source": [
    "# 2. uji normalitas (contoh untuk 2 grup, idealnya dicek semua)\n",
    "stat_sandy, p_sandy = stats.shapiro(sandy)\n",
    "stat_loamy, p_loamy = stats.shapiro(loamy)"
   ]
  },
  {
   "cell_type": "code",
   "execution_count": 13,
   "id": "8acdd551",
   "metadata": {},
   "outputs": [
    {
     "data": {
      "text/plain": [
       "{'p-value Sandy': '0.35', 'p-value Loamy': '0.01'}"
      ]
     },
     "execution_count": 13,
     "metadata": {},
     "output_type": "execute_result"
    }
   ],
   "source": [
    "# 3. hasil normalitas\n",
    "{'p-value Sandy': f'{p_sandy:.2f}', 'p-value Loamy': f'{p_loamy:.2f}'}"
   ]
  },
  {
   "cell_type": "code",
   "execution_count": 20,
   "id": "e48df32c",
   "metadata": {},
   "outputs": [
    {
     "name": "stdout",
     "output_type": "stream",
     "text": [
      "p-value dari uji hipotesis: 0.00\n"
     ]
    }
   ],
   "source": [
    "# 3. uji hipotesis\n",
    "h_stat, p_value = stats.kruskal(sandy, loamy, clayey, black, red)\n",
    "\n",
    "print(f'p-value dari uji hipotesis: {p_value:.2f}')"
   ]
  },
  {
   "cell_type": "code",
   "execution_count": 17,
   "id": "ebd3ed22",
   "metadata": {},
   "outputs": [
    {
     "name": "stdout",
     "output_type": "stream",
     "text": [
      "Tolak H0\n"
     ]
    }
   ],
   "source": [
    "# 4. Ambil kesimpulan\n",
    "alpha = 0.05\n",
    "if p_value < alpha:\n",
    "    print('Tolak H0')\n",
    "else:\n",
    "    print('Gagal tolak H0')"
   ]
  },
  {
   "cell_type": "markdown",
   "id": "4a1a427a",
   "metadata": {},
   "source": [
    "**Kesimpulan Soal 2:** ada perbedaan signifikan pada rata-rata kelembapan tanah setidaknya pada satu jenis tanah"
   ]
  },
  {
   "cell_type": "markdown",
   "id": "d073d1e1",
   "metadata": {},
   "source": [
    "## Soal 3\n",
    "Apakah rata-rata kandungan Phosphorous untuk semua tanaman adalah 20 unit? Buktikan dengan uji statistik!"
   ]
  },
  {
   "cell_type": "code",
   "execution_count": null,
   "id": "5f8571bb",
   "metadata": {},
   "outputs": [],
   "source": [
    "# 1. Menentukan hipotesis\n",
    "# Arah Uji: ___\n",
    "H0 = \"___\"\n",
    "HA = \"___\"\n",
    "\n",
    "# 2. Menentukan signifikansi\n",
    "alpha = 0.05\n",
    "\n",
    "# 3. Menentukan statistik uji\n",
    "# Normal -> ___, Tidak normal -> ___"
   ]
  },
  {
   "cell_type": "code",
   "execution_count": null,
   "id": "eb2fa3e1",
   "metadata": {},
   "outputs": [],
   "source": [
    "# Kode anda"
   ]
  },
  {
   "cell_type": "markdown",
   "id": "4a1a427a",
   "metadata": {},
   "source": [
    "**Kesimpulan Soal 3**: ___"
   ]
  },
  {
   "cell_type": "markdown",
   "id": "dfad5589",
   "metadata": {},
   "source": [
    "## Soal 4\n",
    "- Buat DataFrame berisi tanaman Sugarcane!\n",
    "- Dari DataFrame tersebut, lakukan uji hipotesis untuk membuktikan apakah jenis tanah (Soil Type) berkaitan dengan jenis pupuk (Fertilizer Name)!"
   ]
  },
  {
   "cell_type": "code",
   "execution_count": null,
   "id": "5f8571bb",
   "metadata": {},
   "outputs": [],
   "source": [
    "# 1. Buat DataFrame untuk Sugarcane\n",
    "\n",
    "# 2. Menentukan hipotesis\n",
    "# Arah Uji: ___\n",
    "H0 = \"___\"\n",
    "HA = \"___\"\n",
    "\n",
    "# 3. Menentukan signifikansi\n",
    "alpha = 0.05\n",
    "\n",
    "# 4. Menentukan statistik uji: ___"
   ]
  },
  {
   "cell_type": "code",
   "execution_count": null,
   "id": "889f7405",
   "metadata": {},
   "outputs": [],
   "source": [
    "# Kode anda"
   ]
  },
  {
   "cell_type": "markdown",
   "id": "4a1a427a",
   "metadata": {},
   "source": [
    "**Kesimpulan Soal 4**: ___"
   ]
  },
  {
   "cell_type": "markdown",
   "id": "9472b205",
   "metadata": {},
   "source": [
    "## Soal 5\n",
    "Apakah 50% dari semua tanaman menggunakan pupuk Urea? Buktikan dengan uji statistik!"
   ]
  },
  {
   "cell_type": "code",
   "execution_count": null,
   "id": "5f8571bb",
   "metadata": {},
   "outputs": [],
   "source": [
    "# 1. Menentukan hipotesis\n",
    "# Arah Uji: ___\n",
    "H0 = \"___\"\n",
    "HA = \"___\"\n",
    "\n",
    "# 2. Menentukan signifikansi\n",
    "alpha = 0.05\n",
    "\n",
    "# 3. Menentukan statistik uji: ___"
   ]
  },
  {
   "cell_type": "code",
   "execution_count": null,
   "id": "aefcb0b8",
   "metadata": {},
   "outputs": [],
   "source": [
    "# Kode anda"
   ]
  },
  {
   "cell_type": "markdown",
   "id": "4a1a427a",
   "metadata": {},
   "source": [
    "**Kesimpulan Soal 5**: ___"
   ]
  },
  {
   "cell_type": "markdown",
   "id": "78fe771b",
   "metadata": {},
   "source": [
    "## Soal 6\n",
    "Apakah proporsi tanaman dengan pupuk DAP berbeda antara tanah Sandy dan Loamy? Buktikan dengan uji statistik!"
   ]
  },
  {
   "cell_type": "code",
   "execution_count": null,
   "id": "5f8571bb",
   "metadata": {},
   "outputs": [],
   "source": [
    "# 1. Menentukan hipotesis\n",
    "# Arah Uji: ___\n",
    "H0 = \"___\"\n",
    "HA = \"___\"\n",
    "\n",
    "# 2. Menentukan signifikansi\n",
    "alpha = 0.05\n",
    "\n",
    "# 3. Menentukan statistik uji: Z Proportion Test 2 Sample"
   ]
  },
  {
   "cell_type": "code",
   "execution_count": null,
   "id": "bb4c00d8",
   "metadata": {},
   "outputs": [],
   "source": [
    "# Kode anda"
   ]
  },
  {
   "cell_type": "markdown",
   "id": "4a1a427a",
   "metadata": {},
   "source": [
    "**Kesimpulan Soal 6**: ___"
   ]
  }
 ],
 "metadata": {
  "kernelspec": {
   "display_name": "Python 3",
   "language": "python",
   "name": "python3"
  },
  "language_info": {
   "codemirror_mode": {
    "name": "ipython",
    "version": 3
   },
   "file_extension": ".py",
   "mimetype": "text/x-python",
   "name": "python",
   "nbconvert_exporter": "python",
   "pygments_lexer": "ipython3",
   "version": "3.13.5"
  },
  "nbformat": 4,
  "nbformat_minor": 5
 },
 "nbformat": 4,
 "nbformat_minor": 5
}
